{
  "nbformat": 4,
  "nbformat_minor": 0,
  "metadata": {
    "colab": {
      "provenance": []
    },
    "kernelspec": {
      "name": "python3",
      "display_name": "Python 3"
    },
    "language_info": {
      "name": "python"
    }
  },
  "cells": [
    {
      "cell_type": "markdown",
      "source": [
        "This project attempts to give you the deal type based on the interior design, comfort, performance, value for money, exterior styling, reliablility, and min/max MPG's. An example use case would be when you are trying to decide on a car but don't want name and branding to interfere with which car is *actually* better in terms of the deal."
      ],
      "metadata": {
        "id": "zYI6L1u4sD1N"
      }
    },
    {
      "cell_type": "code",
      "execution_count": 84,
      "metadata": {
        "id": "9QKba8_WxRUx"
      },
      "outputs": [],
      "source": [
        "import pandas as pd\n",
        "import numpy as np"
      ]
    },
    {
      "cell_type": "code",
      "source": [
        "df=pd.read_csv('cars_raw.csv')"
      ],
      "metadata": {
        "id": "UrppsaUjycm3"
      },
      "execution_count": 144,
      "outputs": []
    },
    {
      "cell_type": "code",
      "source": [
        "df = df.sample(frac = 1)"
      ],
      "metadata": {
        "id": "GJZnWktdzZ9I"
      },
      "execution_count": 145,
      "outputs": []
    },
    {
      "cell_type": "code",
      "source": [
        "df = df.reset_index()"
      ],
      "metadata": {
        "id": "iBW73zxD0G3Q"
      },
      "execution_count": 146,
      "outputs": []
    },
    {
      "cell_type": "code",
      "source": [
        "del df[\"index\"]"
      ],
      "metadata": {
        "id": "yJx3Mmbk0Jlb"
      },
      "execution_count": 147,
      "outputs": []
    },
    {
      "cell_type": "code",
      "source": [
        "df = df.filter(['ComfortRating',\t'InteriorDesignRating',\t'PerformanceRating',\t'ValueForMoneyRating',\t'ExteriorStylingRating',\t'ReliabilityRating', 'MinMPG', 'MaxMPG', 'DealType'])"
      ],
      "metadata": {
        "id": "A3WMW-D06T-w"
      },
      "execution_count": 148,
      "outputs": []
    },
    {
      "cell_type": "code",
      "source": [
        "df['DealType'] = df['DealType'].replace(['NaN'],'Bad')\n",
        "df['DealType'] = df['DealType'].replace(['nan'],'Bad')"
      ],
      "metadata": {
        "id": "C45-piVo8Oey"
      },
      "execution_count": 149,
      "outputs": []
    },
    {
      "cell_type": "code",
      "source": [
        "df"
      ],
      "metadata": {
        "colab": {
          "base_uri": "https://localhost:8080/",
          "height": 419
        },
        "id": "5-M6gsZ5q_ON",
        "outputId": "7ebfaa3f-9978-4d1c-9adb-84ce49a9ea80"
      },
      "execution_count": 150,
      "outputs": [
        {
          "output_type": "execute_result",
          "data": {
            "text/plain": [
              "      ComfortRating  InteriorDesignRating  PerformanceRating  \\\n",
              "0               4.9                   4.8                4.9   \n",
              "1               4.6                   4.4                4.6   \n",
              "2               4.8                   4.7                4.7   \n",
              "3               4.8                   4.9                4.8   \n",
              "4               5.0                   5.0                5.0   \n",
              "...             ...                   ...                ...   \n",
              "9374            4.8                   4.7                4.9   \n",
              "9375            5.0                   5.0                5.0   \n",
              "9376            4.9                   4.8                4.8   \n",
              "9377            4.9                   4.8                4.8   \n",
              "9378            4.8                   4.6                4.7   \n",
              "\n",
              "      ValueForMoneyRating  ExteriorStylingRating  ReliabilityRating  MinMPG  \\\n",
              "0                     4.6                    4.9                4.7      17   \n",
              "1                     4.0                    4.2                4.4     124   \n",
              "2                     4.6                    4.8                4.7      20   \n",
              "3                     4.6                    4.7                4.8      24   \n",
              "4                     5.0                    5.0                5.0      16   \n",
              "...                   ...                    ...                ...     ...   \n",
              "9374                  4.6                    4.9                4.8      18   \n",
              "9375                  4.8                    5.0                5.0      17   \n",
              "9376                  4.7                    4.8                4.9      20   \n",
              "9377                  4.4                    4.8                4.7      19   \n",
              "9378                  4.6                    4.8                4.9      13   \n",
              "\n",
              "      MaxMPG DealType  \n",
              "0         23     Good  \n",
              "1        116    Great  \n",
              "2         27     Good  \n",
              "3         31    Great  \n",
              "4         25     Fair  \n",
              "...      ...      ...  \n",
              "9374      27     Fair  \n",
              "9375      22     Good  \n",
              "9376      27     Good  \n",
              "9377      23     Good  \n",
              "9378      17     Good  \n",
              "\n",
              "[9379 rows x 9 columns]"
            ],
            "text/html": [
              "\n",
              "  <div id=\"df-6db6cc5e-849b-4ebd-894d-e66189a44aed\">\n",
              "    <div class=\"colab-df-container\">\n",
              "      <div>\n",
              "<style scoped>\n",
              "    .dataframe tbody tr th:only-of-type {\n",
              "        vertical-align: middle;\n",
              "    }\n",
              "\n",
              "    .dataframe tbody tr th {\n",
              "        vertical-align: top;\n",
              "    }\n",
              "\n",
              "    .dataframe thead th {\n",
              "        text-align: right;\n",
              "    }\n",
              "</style>\n",
              "<table border=\"1\" class=\"dataframe\">\n",
              "  <thead>\n",
              "    <tr style=\"text-align: right;\">\n",
              "      <th></th>\n",
              "      <th>ComfortRating</th>\n",
              "      <th>InteriorDesignRating</th>\n",
              "      <th>PerformanceRating</th>\n",
              "      <th>ValueForMoneyRating</th>\n",
              "      <th>ExteriorStylingRating</th>\n",
              "      <th>ReliabilityRating</th>\n",
              "      <th>MinMPG</th>\n",
              "      <th>MaxMPG</th>\n",
              "      <th>DealType</th>\n",
              "    </tr>\n",
              "  </thead>\n",
              "  <tbody>\n",
              "    <tr>\n",
              "      <th>0</th>\n",
              "      <td>4.9</td>\n",
              "      <td>4.8</td>\n",
              "      <td>4.9</td>\n",
              "      <td>4.6</td>\n",
              "      <td>4.9</td>\n",
              "      <td>4.7</td>\n",
              "      <td>17</td>\n",
              "      <td>23</td>\n",
              "      <td>Good</td>\n",
              "    </tr>\n",
              "    <tr>\n",
              "      <th>1</th>\n",
              "      <td>4.6</td>\n",
              "      <td>4.4</td>\n",
              "      <td>4.6</td>\n",
              "      <td>4.0</td>\n",
              "      <td>4.2</td>\n",
              "      <td>4.4</td>\n",
              "      <td>124</td>\n",
              "      <td>116</td>\n",
              "      <td>Great</td>\n",
              "    </tr>\n",
              "    <tr>\n",
              "      <th>2</th>\n",
              "      <td>4.8</td>\n",
              "      <td>4.7</td>\n",
              "      <td>4.7</td>\n",
              "      <td>4.6</td>\n",
              "      <td>4.8</td>\n",
              "      <td>4.7</td>\n",
              "      <td>20</td>\n",
              "      <td>27</td>\n",
              "      <td>Good</td>\n",
              "    </tr>\n",
              "    <tr>\n",
              "      <th>3</th>\n",
              "      <td>4.8</td>\n",
              "      <td>4.9</td>\n",
              "      <td>4.8</td>\n",
              "      <td>4.6</td>\n",
              "      <td>4.7</td>\n",
              "      <td>4.8</td>\n",
              "      <td>24</td>\n",
              "      <td>31</td>\n",
              "      <td>Great</td>\n",
              "    </tr>\n",
              "    <tr>\n",
              "      <th>4</th>\n",
              "      <td>5.0</td>\n",
              "      <td>5.0</td>\n",
              "      <td>5.0</td>\n",
              "      <td>5.0</td>\n",
              "      <td>5.0</td>\n",
              "      <td>5.0</td>\n",
              "      <td>16</td>\n",
              "      <td>25</td>\n",
              "      <td>Fair</td>\n",
              "    </tr>\n",
              "    <tr>\n",
              "      <th>...</th>\n",
              "      <td>...</td>\n",
              "      <td>...</td>\n",
              "      <td>...</td>\n",
              "      <td>...</td>\n",
              "      <td>...</td>\n",
              "      <td>...</td>\n",
              "      <td>...</td>\n",
              "      <td>...</td>\n",
              "      <td>...</td>\n",
              "    </tr>\n",
              "    <tr>\n",
              "      <th>9374</th>\n",
              "      <td>4.8</td>\n",
              "      <td>4.7</td>\n",
              "      <td>4.9</td>\n",
              "      <td>4.6</td>\n",
              "      <td>4.9</td>\n",
              "      <td>4.8</td>\n",
              "      <td>18</td>\n",
              "      <td>27</td>\n",
              "      <td>Fair</td>\n",
              "    </tr>\n",
              "    <tr>\n",
              "      <th>9375</th>\n",
              "      <td>5.0</td>\n",
              "      <td>5.0</td>\n",
              "      <td>5.0</td>\n",
              "      <td>4.8</td>\n",
              "      <td>5.0</td>\n",
              "      <td>5.0</td>\n",
              "      <td>17</td>\n",
              "      <td>22</td>\n",
              "      <td>Good</td>\n",
              "    </tr>\n",
              "    <tr>\n",
              "      <th>9376</th>\n",
              "      <td>4.9</td>\n",
              "      <td>4.8</td>\n",
              "      <td>4.8</td>\n",
              "      <td>4.7</td>\n",
              "      <td>4.8</td>\n",
              "      <td>4.9</td>\n",
              "      <td>20</td>\n",
              "      <td>27</td>\n",
              "      <td>Good</td>\n",
              "    </tr>\n",
              "    <tr>\n",
              "      <th>9377</th>\n",
              "      <td>4.9</td>\n",
              "      <td>4.8</td>\n",
              "      <td>4.8</td>\n",
              "      <td>4.4</td>\n",
              "      <td>4.8</td>\n",
              "      <td>4.7</td>\n",
              "      <td>19</td>\n",
              "      <td>23</td>\n",
              "      <td>Good</td>\n",
              "    </tr>\n",
              "    <tr>\n",
              "      <th>9378</th>\n",
              "      <td>4.8</td>\n",
              "      <td>4.6</td>\n",
              "      <td>4.7</td>\n",
              "      <td>4.6</td>\n",
              "      <td>4.8</td>\n",
              "      <td>4.9</td>\n",
              "      <td>13</td>\n",
              "      <td>17</td>\n",
              "      <td>Good</td>\n",
              "    </tr>\n",
              "  </tbody>\n",
              "</table>\n",
              "<p>9379 rows × 9 columns</p>\n",
              "</div>\n",
              "      <button class=\"colab-df-convert\" onclick=\"convertToInteractive('df-6db6cc5e-849b-4ebd-894d-e66189a44aed')\"\n",
              "              title=\"Convert this dataframe to an interactive table.\"\n",
              "              style=\"display:none;\">\n",
              "        \n",
              "  <svg xmlns=\"http://www.w3.org/2000/svg\" height=\"24px\"viewBox=\"0 0 24 24\"\n",
              "       width=\"24px\">\n",
              "    <path d=\"M0 0h24v24H0V0z\" fill=\"none\"/>\n",
              "    <path d=\"M18.56 5.44l.94 2.06.94-2.06 2.06-.94-2.06-.94-.94-2.06-.94 2.06-2.06.94zm-11 1L8.5 8.5l.94-2.06 2.06-.94-2.06-.94L8.5 2.5l-.94 2.06-2.06.94zm10 10l.94 2.06.94-2.06 2.06-.94-2.06-.94-.94-2.06-.94 2.06-2.06.94z\"/><path d=\"M17.41 7.96l-1.37-1.37c-.4-.4-.92-.59-1.43-.59-.52 0-1.04.2-1.43.59L10.3 9.45l-7.72 7.72c-.78.78-.78 2.05 0 2.83L4 21.41c.39.39.9.59 1.41.59.51 0 1.02-.2 1.41-.59l7.78-7.78 2.81-2.81c.8-.78.8-2.07 0-2.86zM5.41 20L4 18.59l7.72-7.72 1.47 1.35L5.41 20z\"/>\n",
              "  </svg>\n",
              "      </button>\n",
              "      \n",
              "  <style>\n",
              "    .colab-df-container {\n",
              "      display:flex;\n",
              "      flex-wrap:wrap;\n",
              "      gap: 12px;\n",
              "    }\n",
              "\n",
              "    .colab-df-convert {\n",
              "      background-color: #E8F0FE;\n",
              "      border: none;\n",
              "      border-radius: 50%;\n",
              "      cursor: pointer;\n",
              "      display: none;\n",
              "      fill: #1967D2;\n",
              "      height: 32px;\n",
              "      padding: 0 0 0 0;\n",
              "      width: 32px;\n",
              "    }\n",
              "\n",
              "    .colab-df-convert:hover {\n",
              "      background-color: #E2EBFA;\n",
              "      box-shadow: 0px 1px 2px rgba(60, 64, 67, 0.3), 0px 1px 3px 1px rgba(60, 64, 67, 0.15);\n",
              "      fill: #174EA6;\n",
              "    }\n",
              "\n",
              "    [theme=dark] .colab-df-convert {\n",
              "      background-color: #3B4455;\n",
              "      fill: #D2E3FC;\n",
              "    }\n",
              "\n",
              "    [theme=dark] .colab-df-convert:hover {\n",
              "      background-color: #434B5C;\n",
              "      box-shadow: 0px 1px 3px 1px rgba(0, 0, 0, 0.15);\n",
              "      filter: drop-shadow(0px 1px 2px rgba(0, 0, 0, 0.3));\n",
              "      fill: #FFFFFF;\n",
              "    }\n",
              "  </style>\n",
              "\n",
              "      <script>\n",
              "        const buttonEl =\n",
              "          document.querySelector('#df-6db6cc5e-849b-4ebd-894d-e66189a44aed button.colab-df-convert');\n",
              "        buttonEl.style.display =\n",
              "          google.colab.kernel.accessAllowed ? 'block' : 'none';\n",
              "\n",
              "        async function convertToInteractive(key) {\n",
              "          const element = document.querySelector('#df-6db6cc5e-849b-4ebd-894d-e66189a44aed');\n",
              "          const dataTable =\n",
              "            await google.colab.kernel.invokeFunction('convertToInteractive',\n",
              "                                                     [key], {});\n",
              "          if (!dataTable) return;\n",
              "\n",
              "          const docLinkHtml = 'Like what you see? Visit the ' +\n",
              "            '<a target=\"_blank\" href=https://colab.research.google.com/notebooks/data_table.ipynb>data table notebook</a>'\n",
              "            + ' to learn more about interactive tables.';\n",
              "          element.innerHTML = '';\n",
              "          dataTable['output_type'] = 'display_data';\n",
              "          await google.colab.output.renderOutput(dataTable, element);\n",
              "          const docLink = document.createElement('div');\n",
              "          docLink.innerHTML = docLinkHtml;\n",
              "          element.appendChild(docLink);\n",
              "        }\n",
              "      </script>\n",
              "    </div>\n",
              "  </div>\n",
              "  "
            ]
          },
          "metadata": {},
          "execution_count": 150
        }
      ]
    },
    {
      "cell_type": "code",
      "source": [
        "X = [] \n",
        "y = []\n",
        "for i in range(len(df)):  \n",
        "    row = list(df.iloc[i]) \n",
        "    X.append(row[:-1]) \n",
        "    y.append(row[-1]) "
      ],
      "metadata": {
        "id": "cvF52m7V0MgX"
      },
      "execution_count": 151,
      "outputs": []
    },
    {
      "cell_type": "code",
      "source": [
        "def split(l, pct):\n",
        "    train = l[:int(len(l) * pct)]\n",
        "    test = l[int(len(l) * pct):]\n",
        "    return train, test"
      ],
      "metadata": {
        "id": "zVoPfasF0crX"
      },
      "execution_count": 152,
      "outputs": []
    },
    {
      "cell_type": "code",
      "source": [
        "train_X, test_X = split(X, 0.75)\n",
        "train_y, test_y = split(y, 0.75)\n",
        "\n",
        "print(\"train x length: \" + str(len(train_X)))\n",
        "print(\"test x length: \" + str(len(test_X)))\n",
        "print(\"train y length: \" + str(len(train_y)))\n",
        "print(\"test y length: \" + str(len(test_y)))"
      ],
      "metadata": {
        "colab": {
          "base_uri": "https://localhost:8080/"
        },
        "id": "jBWGjSEc8ocX",
        "outputId": "88d64057-7d25-4116-b8bb-a480e2d432e9"
      },
      "execution_count": 153,
      "outputs": [
        {
          "output_type": "stream",
          "name": "stdout",
          "text": [
            "train x length: 7034\n",
            "test x length: 2345\n",
            "train y length: 7034\n",
            "test y length: 2345\n"
          ]
        }
      ]
    },
    {
      "cell_type": "code",
      "source": [
        "from sklearn.ensemble import AdaBoostClassifier\n",
        "from sklearn.tree import DecisionTreeClassifier #popular\n",
        "from sklearn.gaussian_process import GaussianProcessClassifier\n",
        "from sklearn.neighbors import KNeighborsClassifier #most popular\n",
        "from sklearn.neural_network import MLPClassifier\n",
        "from sklearn.svm import SVC #popular\n",
        "from sklearn.ensemble import RandomForestClassifier #quite popular"
      ],
      "metadata": {
        "id": "s0pqmyU781V4"
      },
      "execution_count": 154,
      "outputs": []
    },
    {
      "cell_type": "code",
      "source": [
        "def get_score(model):\n",
        "  model.fit(train_X, train_y)\n",
        "  return model.score(test_X, test_y)"
      ],
      "metadata": {
        "id": "hiLskzLx9CIL"
      },
      "execution_count": 155,
      "outputs": []
    },
    {
      "cell_type": "code",
      "source": [
        "print(\"Adaboost: \" + str(get_score(AdaBoostClassifier())))\n",
        "print(\"DecisionTree: \" + str(get_score(DecisionTreeClassifier())))\n",
        "#print(\"GuassianProcess: \" + str(get_score(GaussianProcessClassifier())))\n",
        "print(\"K Neighbors: \" + str(get_score(KNeighborsClassifier())))\n",
        "print(\"MLPC: \" + str(get_score(MLPClassifier())))\n",
        "print(\"SVC: \" + str(get_score(SVC())))\n",
        "print(\"Random forest:\" +str(get_score(RandomForestClassifier())))"
      ],
      "metadata": {
        "colab": {
          "base_uri": "https://localhost:8080/"
        },
        "id": "CL8Ctc__M41_",
        "outputId": "3f13e09a-c16b-4604-8020-82ba70cf69ec"
      },
      "execution_count": 156,
      "outputs": [
        {
          "output_type": "stream",
          "name": "stdout",
          "text": [
            "Adaboost: 0.5889125799573561\n",
            "DecisionTree: 0.5957356076759062\n",
            "K Neighbors: 0.5569296375266525\n",
            "MLPC: 0.5825159914712154\n",
            "SVC: 0.5893390191897655\n",
            "Random forest:0.5974413646055438\n"
          ]
        }
      ]
    },
    {
      "cell_type": "code",
      "source": [
        "model = RandomForestClassifier()\n",
        "model.fit(train_X, train_y)\n",
        "values = [4.5, 4.5, 4.5, 4.5, 4.5, 4.5, 17, 19]\n",
        "model.predict([values])[0]"
      ],
      "metadata": {
        "colab": {
          "base_uri": "https://localhost:8080/",
          "height": 37
        },
        "id": "luydUO6rM6Sv",
        "outputId": "30642c61-e7d5-45db-b93c-e4c8786c3549"
      },
      "execution_count": 157,
      "outputs": [
        {
          "output_type": "execute_result",
          "data": {
            "text/plain": [
              "'Good'"
            ],
            "application/vnd.google.colaboratory.intrinsic+json": {
              "type": "string"
            }
          },
          "metadata": {},
          "execution_count": 157
        }
      ]
    },
    {
      "cell_type": "code",
      "source": [],
      "metadata": {
        "id": "YqA-u4fkjsEY"
      },
      "execution_count": null,
      "outputs": []
    }
  ]
}